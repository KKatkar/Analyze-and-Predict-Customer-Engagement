{
 "cells": [
  {
   "cell_type": "markdown",
   "metadata": {},
   "source": [
    "<h1>Modeling the combined dataFrame:</h1>"
   ]
  },
  {
   "cell_type": "markdown",
   "metadata": {},
   "source": [
    "<h2>Activity</h2> <br />\n",
    "To split the data into train and test sets. Train LogisticRegression, RandomForestClassifier, DecisionTreeClassifier and GradientBoostingClassifier models on the train set. <br />\n",
    "Compare their accuracy, recall and precision i.e Evaluate their metrics. Hypertune the best classifier and use it on the test set."
   ]
  },
  {
   "cell_type": "code",
   "execution_count": 5,
   "metadata": {},
   "outputs": [],
   "source": [
    "#Import libraries\n",
    "import pandas as pd\n",
    "import numpy as np\n",
    "import matplotlib.pyplot as plt\n",
    "import math\n",
    "\n",
    "from sklearn.ensemble import GradientBoostingClassifier, RandomForestClassifier\n",
    "from sklearn.linear_model import LogisticRegression\n",
    "from sklearn.model_selection import train_test_split\n",
    "from sklearn.metrics import accuracy_score, classification_report, f1_score\n",
    "from sklearn.tree import DecisionTreeClassifier\n",
    "\n",
    "%matplotlib inline"
   ]
  },
  {
   "cell_type": "code",
   "execution_count": 7,
   "metadata": {},
   "outputs": [
    {
     "data": {
      "text/html": [
       "<div>\n",
       "<style scoped>\n",
       "    .dataframe tbody tr th:only-of-type {\n",
       "        vertical-align: middle;\n",
       "    }\n",
       "\n",
       "    .dataframe tbody tr th {\n",
       "        vertical-align: top;\n",
       "    }\n",
       "\n",
       "    .dataframe thead th {\n",
       "        text-align: right;\n",
       "    }\n",
       "</style>\n",
       "<table border=\"1\" class=\"dataframe\">\n",
       "  <thead>\n",
       "    <tr style=\"text-align: right;\">\n",
       "      <th></th>\n",
       "      <th>offer_label</th>\n",
       "      <th>person</th>\n",
       "      <th>time</th>\n",
       "      <th>total_amount</th>\n",
       "      <th>successful</th>\n",
       "      <th>duration</th>\n",
       "      <th>difficulty</th>\n",
       "      <th>web</th>\n",
       "      <th>mobile</th>\n",
       "      <th>email</th>\n",
       "      <th>social</th>\n",
       "      <th>bogo</th>\n",
       "      <th>discount</th>\n",
       "      <th>informational</th>\n",
       "      <th>age</th>\n",
       "      <th>income</th>\n",
       "      <th>member_year</th>\n",
       "      <th>gender_label</th>\n",
       "    </tr>\n",
       "  </thead>\n",
       "  <tbody>\n",
       "    <tr>\n",
       "      <th>0</th>\n",
       "      <td>4.0</td>\n",
       "      <td>78afa995795e4d85b5d9ceeca43f5fef</td>\n",
       "      <td>0</td>\n",
       "      <td>37.67</td>\n",
       "      <td>1</td>\n",
       "      <td>168</td>\n",
       "      <td>0.25</td>\n",
       "      <td>1</td>\n",
       "      <td>1</td>\n",
       "      <td>1</td>\n",
       "      <td>0</td>\n",
       "      <td>1</td>\n",
       "      <td>0</td>\n",
       "      <td>0</td>\n",
       "      <td>75</td>\n",
       "      <td>100000.0</td>\n",
       "      <td>2017</td>\n",
       "      <td>1</td>\n",
       "    </tr>\n",
       "    <tr>\n",
       "      <th>1</th>\n",
       "      <td>8.0</td>\n",
       "      <td>78afa995795e4d85b5d9ceeca43f5fef</td>\n",
       "      <td>168</td>\n",
       "      <td>49.39</td>\n",
       "      <td>0</td>\n",
       "      <td>72</td>\n",
       "      <td>0.00</td>\n",
       "      <td>0</td>\n",
       "      <td>1</td>\n",
       "      <td>1</td>\n",
       "      <td>1</td>\n",
       "      <td>0</td>\n",
       "      <td>0</td>\n",
       "      <td>1</td>\n",
       "      <td>75</td>\n",
       "      <td>100000.0</td>\n",
       "      <td>2017</td>\n",
       "      <td>1</td>\n",
       "    </tr>\n",
       "    <tr>\n",
       "      <th>2</th>\n",
       "      <td>1.0</td>\n",
       "      <td>78afa995795e4d85b5d9ceeca43f5fef</td>\n",
       "      <td>408</td>\n",
       "      <td>48.28</td>\n",
       "      <td>1</td>\n",
       "      <td>168</td>\n",
       "      <td>0.50</td>\n",
       "      <td>0</td>\n",
       "      <td>1</td>\n",
       "      <td>1</td>\n",
       "      <td>1</td>\n",
       "      <td>1</td>\n",
       "      <td>0</td>\n",
       "      <td>0</td>\n",
       "      <td>75</td>\n",
       "      <td>100000.0</td>\n",
       "      <td>2017</td>\n",
       "      <td>1</td>\n",
       "    </tr>\n",
       "    <tr>\n",
       "      <th>3</th>\n",
       "      <td>9.0</td>\n",
       "      <td>78afa995795e4d85b5d9ceeca43f5fef</td>\n",
       "      <td>504</td>\n",
       "      <td>48.28</td>\n",
       "      <td>1</td>\n",
       "      <td>120</td>\n",
       "      <td>0.25</td>\n",
       "      <td>1</td>\n",
       "      <td>1</td>\n",
       "      <td>1</td>\n",
       "      <td>1</td>\n",
       "      <td>1</td>\n",
       "      <td>0</td>\n",
       "      <td>0</td>\n",
       "      <td>75</td>\n",
       "      <td>100000.0</td>\n",
       "      <td>2017</td>\n",
       "      <td>1</td>\n",
       "    </tr>\n",
       "    <tr>\n",
       "      <th>4</th>\n",
       "      <td>10.0</td>\n",
       "      <td>e2127556f4f64592b11af22de27a7932</td>\n",
       "      <td>0</td>\n",
       "      <td>0.00</td>\n",
       "      <td>0</td>\n",
       "      <td>168</td>\n",
       "      <td>0.50</td>\n",
       "      <td>1</td>\n",
       "      <td>1</td>\n",
       "      <td>1</td>\n",
       "      <td>0</td>\n",
       "      <td>0</td>\n",
       "      <td>1</td>\n",
       "      <td>0</td>\n",
       "      <td>68</td>\n",
       "      <td>70000.0</td>\n",
       "      <td>2018</td>\n",
       "      <td>2</td>\n",
       "    </tr>\n",
       "  </tbody>\n",
       "</table>\n",
       "</div>"
      ],
      "text/plain": [
       "   offer_label                            person  time  total_amount  \\\n",
       "0          4.0  78afa995795e4d85b5d9ceeca43f5fef     0         37.67   \n",
       "1          8.0  78afa995795e4d85b5d9ceeca43f5fef   168         49.39   \n",
       "2          1.0  78afa995795e4d85b5d9ceeca43f5fef   408         48.28   \n",
       "3          9.0  78afa995795e4d85b5d9ceeca43f5fef   504         48.28   \n",
       "4         10.0  e2127556f4f64592b11af22de27a7932     0          0.00   \n",
       "\n",
       "   successful  duration  difficulty  web  mobile  email  social  bogo  \\\n",
       "0           1       168        0.25    1       1      1       0     1   \n",
       "1           0        72        0.00    0       1      1       1     0   \n",
       "2           1       168        0.50    0       1      1       1     1   \n",
       "3           1       120        0.25    1       1      1       1     1   \n",
       "4           0       168        0.50    1       1      1       0     0   \n",
       "\n",
       "   discount  informational  age    income  member_year  gender_label  \n",
       "0         0              0   75  100000.0         2017             1  \n",
       "1         0              1   75  100000.0         2017             1  \n",
       "2         0              0   75  100000.0         2017             1  \n",
       "3         0              0   75  100000.0         2017             1  \n",
       "4         1              0   68   70000.0         2018             2  "
      ]
     },
     "execution_count": 7,
     "metadata": {},
     "output_type": "execute_result"
    }
   ],
   "source": [
    "combined_df = pd.read_csv('normalized/combined_df.csv')\n",
    "combined_df.head()"
   ]
  },
  {
   "cell_type": "code",
   "execution_count": 20,
   "metadata": {},
   "outputs": [
    {
     "data": {
      "text/html": [
       "<div>\n",
       "<style scoped>\n",
       "    .dataframe tbody tr th:only-of-type {\n",
       "        vertical-align: middle;\n",
       "    }\n",
       "\n",
       "    .dataframe tbody tr th {\n",
       "        vertical-align: top;\n",
       "    }\n",
       "\n",
       "    .dataframe thead th {\n",
       "        text-align: right;\n",
       "    }\n",
       "</style>\n",
       "<table border=\"1\" class=\"dataframe\">\n",
       "  <thead>\n",
       "    <tr style=\"text-align: right;\">\n",
       "      <th></th>\n",
       "      <th>offer_label</th>\n",
       "      <th>time</th>\n",
       "      <th>total_amount</th>\n",
       "      <th>successful</th>\n",
       "      <th>duration</th>\n",
       "      <th>difficulty</th>\n",
       "      <th>web</th>\n",
       "      <th>mobile</th>\n",
       "      <th>email</th>\n",
       "      <th>social</th>\n",
       "      <th>bogo</th>\n",
       "      <th>discount</th>\n",
       "      <th>informational</th>\n",
       "      <th>age</th>\n",
       "      <th>income</th>\n",
       "      <th>member_year</th>\n",
       "      <th>gender_label</th>\n",
       "    </tr>\n",
       "  </thead>\n",
       "  <tbody>\n",
       "    <tr>\n",
       "      <th>0</th>\n",
       "      <td>4.0</td>\n",
       "      <td>0</td>\n",
       "      <td>37.67</td>\n",
       "      <td>1</td>\n",
       "      <td>168</td>\n",
       "      <td>0.25</td>\n",
       "      <td>1</td>\n",
       "      <td>1</td>\n",
       "      <td>1</td>\n",
       "      <td>0</td>\n",
       "      <td>1</td>\n",
       "      <td>0</td>\n",
       "      <td>0</td>\n",
       "      <td>75</td>\n",
       "      <td>100000.0</td>\n",
       "      <td>2017</td>\n",
       "      <td>1</td>\n",
       "    </tr>\n",
       "    <tr>\n",
       "      <th>1</th>\n",
       "      <td>8.0</td>\n",
       "      <td>168</td>\n",
       "      <td>49.39</td>\n",
       "      <td>0</td>\n",
       "      <td>72</td>\n",
       "      <td>0.00</td>\n",
       "      <td>0</td>\n",
       "      <td>1</td>\n",
       "      <td>1</td>\n",
       "      <td>1</td>\n",
       "      <td>0</td>\n",
       "      <td>0</td>\n",
       "      <td>1</td>\n",
       "      <td>75</td>\n",
       "      <td>100000.0</td>\n",
       "      <td>2017</td>\n",
       "      <td>1</td>\n",
       "    </tr>\n",
       "    <tr>\n",
       "      <th>2</th>\n",
       "      <td>1.0</td>\n",
       "      <td>408</td>\n",
       "      <td>48.28</td>\n",
       "      <td>1</td>\n",
       "      <td>168</td>\n",
       "      <td>0.50</td>\n",
       "      <td>0</td>\n",
       "      <td>1</td>\n",
       "      <td>1</td>\n",
       "      <td>1</td>\n",
       "      <td>1</td>\n",
       "      <td>0</td>\n",
       "      <td>0</td>\n",
       "      <td>75</td>\n",
       "      <td>100000.0</td>\n",
       "      <td>2017</td>\n",
       "      <td>1</td>\n",
       "    </tr>\n",
       "    <tr>\n",
       "      <th>3</th>\n",
       "      <td>9.0</td>\n",
       "      <td>504</td>\n",
       "      <td>48.28</td>\n",
       "      <td>1</td>\n",
       "      <td>120</td>\n",
       "      <td>0.25</td>\n",
       "      <td>1</td>\n",
       "      <td>1</td>\n",
       "      <td>1</td>\n",
       "      <td>1</td>\n",
       "      <td>1</td>\n",
       "      <td>0</td>\n",
       "      <td>0</td>\n",
       "      <td>75</td>\n",
       "      <td>100000.0</td>\n",
       "      <td>2017</td>\n",
       "      <td>1</td>\n",
       "    </tr>\n",
       "    <tr>\n",
       "      <th>4</th>\n",
       "      <td>10.0</td>\n",
       "      <td>0</td>\n",
       "      <td>0.00</td>\n",
       "      <td>0</td>\n",
       "      <td>168</td>\n",
       "      <td>0.50</td>\n",
       "      <td>1</td>\n",
       "      <td>1</td>\n",
       "      <td>1</td>\n",
       "      <td>0</td>\n",
       "      <td>0</td>\n",
       "      <td>1</td>\n",
       "      <td>0</td>\n",
       "      <td>68</td>\n",
       "      <td>70000.0</td>\n",
       "      <td>2018</td>\n",
       "      <td>2</td>\n",
       "    </tr>\n",
       "  </tbody>\n",
       "</table>\n",
       "</div>"
      ],
      "text/plain": [
       "   offer_label  time  total_amount  successful  duration  difficulty  web  \\\n",
       "0          4.0     0         37.67           1       168        0.25    1   \n",
       "1          8.0   168         49.39           0        72        0.00    0   \n",
       "2          1.0   408         48.28           1       168        0.50    0   \n",
       "3          9.0   504         48.28           1       120        0.25    1   \n",
       "4         10.0     0          0.00           0       168        0.50    1   \n",
       "\n",
       "   mobile  email  social  bogo  discount  informational  age    income  \\\n",
       "0       1      1       0     1         0              0   75  100000.0   \n",
       "1       1      1       1     0         0              1   75  100000.0   \n",
       "2       1      1       1     1         0              0   75  100000.0   \n",
       "3       1      1       1     1         0              0   75  100000.0   \n",
       "4       1      1       0     0         1              0   68   70000.0   \n",
       "\n",
       "   member_year  gender_label  \n",
       "0         2017             1  \n",
       "1         2017             1  \n",
       "2         2017             1  \n",
       "3         2017             1  \n",
       "4         2018             2  "
      ]
     },
     "execution_count": 20,
     "metadata": {},
     "output_type": "execute_result"
    }
   ],
   "source": [
    "#The person ID information can be removed since demographic information is already within the dataset and \n",
    "#'person' column does not add value when trainng the model\n",
    "combined_df = combined_df.drop(columns = ['person'])\n",
    "combined_df.head()"
   ]
  },
  {
   "cell_type": "markdown",
   "metadata": {},
   "source": [
    "<h2>Split into train and test sets</h2>"
   ]
  },
  {
   "cell_type": "markdown",
   "metadata": {},
   "source": [
    "Allocating 2/3 of the dataset to train and 1/3 to test"
   ]
  },
  {
   "cell_type": "code",
   "execution_count": 27,
   "metadata": {},
   "outputs": [],
   "source": [
    "#features \n",
    "data_X = combined_df.drop(columns = ['successful'])\n",
    "\n",
    "#target to be predicted\n",
    "data_y = np.array(combined_df['successful'])\n",
    "\n",
    "#split into train and test sets\n",
    "train_X, test_X, train_y, test_y = train_test_split(data_X.values, data_y, test_size = 0.33, random_state = 1)\n"
   ]
  },
  {
   "cell_type": "markdown",
   "metadata": {},
   "source": [
    "**Also create a validation set**"
   ]
  },
  {
   "cell_type": "markdown",
   "metadata": {},
   "source": [
    "Allocating 10% of test to validation"
   ]
  },
  {
   "cell_type": "code",
   "execution_count": 64,
   "metadata": {},
   "outputs": [],
   "source": [
    "test_X, val_X, test_y, val_y = train_test_split(test_X, test_y, test_size = 0.1, random_state = 1)"
   ]
  },
  {
   "cell_type": "markdown",
   "metadata": {},
   "source": [
    "<h3>Defining Evaluation metrics</h3>"
   ]
  },
  {
   "cell_type": "code",
   "execution_count": 65,
   "metadata": {},
   "outputs": [],
   "source": [
    "def evaluation_metrics(cls_name, y_true, y_pred):\n",
    "    '''\n",
    "    Evaluation metric for Ml models\n",
    "    Input: classifier name (string), true target labels(array) , predicted target labels (array)\n",
    "    output: accuracy, classification_report (precision, recall, f-1 score)\n",
    "    '''\n",
    "    \n",
    "    accuracy = accuracy_score(y_true, y_pred)\n",
    "    cls_report = classification_report(y_true, y_pred)\n",
    "    score_f1 = f1_score(y_true, y_pred)\n",
    "    \n",
    "    \n",
    "    return accuracy,cls_report, pd.DataFrame({'accuracy': accuracy, 'f1_score':score_f1},\n",
    "                                            index = [cls_name])"
   ]
  },
  {
   "cell_type": "markdown",
   "metadata": {},
   "source": [
    "<h2>Logistic Regression (Benchmark)</h2> <br />\n",
    "This will be the benchmark for all other models"
   ]
  },
  {
   "cell_type": "code",
   "execution_count": 66,
   "metadata": {},
   "outputs": [],
   "source": [
    "#Instantiate and fit model\n",
    "lr_clf = LogisticRegression(solver='liblinear', random_state = 1)\n",
    "\n",
    "lr_clf.fit(train_X, train_y)\n",
    "pred_y = lr_clf.predict(val_X)"
   ]
  },
  {
   "cell_type": "code",
   "execution_count": 67,
   "metadata": {},
   "outputs": [
    {
     "name": "stdout",
     "output_type": "stream",
     "text": [
      "Logistic Regression accuracy:  0.8747152619589977\n",
      "Logistic Regression classification report : \n",
      "               precision    recall  f1-score   support\n",
      "\n",
      "           0       0.87      0.91      0.89      1216\n",
      "           1       0.88      0.84      0.86       979\n",
      "\n",
      "    accuracy                           0.87      2195\n",
      "   macro avg       0.87      0.87      0.87      2195\n",
      "weighted avg       0.87      0.87      0.87      2195\n",
      "\n"
     ]
    }
   ],
   "source": [
    "lr_accuracy, lr_cls_report, lr_stats_df = evaluation_metrics('Logistic Regression',val_y, pred_y)\n",
    "print ('Logistic Regression accuracy: ', lr_accuracy)\n",
    "print ('Logistic Regression classification report : \\n',lr_cls_report)"
   ]
  },
  {
   "cell_type": "markdown",
   "metadata": {},
   "source": [
    "<h2>Gradient Boosting</h2>"
   ]
  },
  {
   "cell_type": "code",
   "execution_count": 68,
   "metadata": {},
   "outputs": [],
   "source": [
    "#Instantiate and fit model\n",
    "gb_clf = GradientBoostingClassifier(random_state = 1)\n",
    "\n",
    "gb_clf.fit(train_X, train_y)\n",
    "pred_y = gb_clf.predict(val_X)"
   ]
  },
  {
   "cell_type": "code",
   "execution_count": 69,
   "metadata": {},
   "outputs": [
    {
     "name": "stdout",
     "output_type": "stream",
     "text": [
      "GradientBoosting Classifier accuracy:  0.9129840546697039\n",
      "GradientBoosting Classifier classification report : \n",
      "               precision    recall  f1-score   support\n",
      "\n",
      "           0       0.95      0.89      0.92      1216\n",
      "           1       0.87      0.94      0.91       979\n",
      "\n",
      "    accuracy                           0.91      2195\n",
      "   macro avg       0.91      0.92      0.91      2195\n",
      "weighted avg       0.92      0.91      0.91      2195\n",
      "\n"
     ]
    }
   ],
   "source": [
    "gb_accuracy, gb_cls_report, gb_stats_df = evaluation_metrics('GradientBoosting',val_y, pred_y)\n",
    "print ('GradientBoosting Classifier accuracy: ', gb_accuracy)\n",
    "print ('GradientBoosting Classifier classification report : \\n',gb_cls_report)"
   ]
  },
  {
   "cell_type": "markdown",
   "metadata": {},
   "source": [
    "<h2>Decision Tree</h2>"
   ]
  },
  {
   "cell_type": "code",
   "execution_count": 70,
   "metadata": {},
   "outputs": [],
   "source": [
    "#Instantiate and fit model\n",
    "dt_clf = DecisionTreeClassifier(random_state = 1)\n",
    "\n",
    "dt_clf.fit(train_X,train_y)\n",
    "pred_y = dt_clf.predict(val_X)"
   ]
  },
  {
   "cell_type": "code",
   "execution_count": 51,
   "metadata": {},
   "outputs": [],
   "source": [
    "#TO PLOT DECISION TREE\n",
    "\n",
    "# from sklearn import tree\n",
    "# fig = plt.figure(figsize=(25,20))\n",
    "# _ = tree.plot_tree(dt_clf,\n",
    "#                   feature_names = data_X.columns.values,\n",
    "#                   class_names = 'successful',\n",
    "#                   filled = True)"
   ]
  },
  {
   "cell_type": "code",
   "execution_count": 71,
   "metadata": {},
   "outputs": [
    {
     "name": "stdout",
     "output_type": "stream",
     "text": [
      "DecisionTree Classifier accuracy:  0.882004555808656\n",
      "DecisionTree Classifier classification report : \n",
      "               precision    recall  f1-score   support\n",
      "\n",
      "           0       0.90      0.89      0.89      1216\n",
      "           1       0.87      0.87      0.87       979\n",
      "\n",
      "    accuracy                           0.88      2195\n",
      "   macro avg       0.88      0.88      0.88      2195\n",
      "weighted avg       0.88      0.88      0.88      2195\n",
      "\n"
     ]
    }
   ],
   "source": [
    "dt_accuracy, dt_cls_report, dt_stats_df = evaluation_metrics('Decision Tree',val_y, pred_y)\n",
    "print ('DecisionTree Classifier accuracy: ', dt_accuracy)\n",
    "print ('DecisionTree Classifier classification report : \\n',dt_cls_report)"
   ]
  },
  {
   "cell_type": "markdown",
   "metadata": {},
   "source": [
    "<h2>Random Forest</h2>"
   ]
  },
  {
   "cell_type": "code",
   "execution_count": 72,
   "metadata": {},
   "outputs": [],
   "source": [
    "#Instantiate and fit model\n",
    "rf_clf =RandomForestClassifier(random_state = 1)\n",
    "\n",
    "rf_clf.fit(train_X,train_y)\n",
    "pred_y = rf_clf.predict(val_X)"
   ]
  },
  {
   "cell_type": "code",
   "execution_count": 73,
   "metadata": {},
   "outputs": [
    {
     "name": "stdout",
     "output_type": "stream",
     "text": [
      "RandomForest Classifier accuracy:  0.9129840546697039\n",
      "RandomForest Classifier classification report : \n",
      "               precision    recall  f1-score   support\n",
      "\n",
      "           0       0.94      0.90      0.92      1216\n",
      "           1       0.89      0.92      0.90       979\n",
      "\n",
      "    accuracy                           0.91      2195\n",
      "   macro avg       0.91      0.91      0.91      2195\n",
      "weighted avg       0.91      0.91      0.91      2195\n",
      "\n"
     ]
    }
   ],
   "source": [
    "rf_accuracy, rf_cls_report, rf_stats_df = evaluation_metrics('Random Forest', val_y, pred_y)\n",
    "print ('RandomForest Classifier accuracy: ', rf_accuracy)\n",
    "print ('RandomForest Classifier classification report : \\n',rf_cls_report)"
   ]
  },
  {
   "cell_type": "markdown",
   "metadata": {},
   "source": [
    "<h3>Comparing statistics</h3>"
   ]
  },
  {
   "cell_type": "code",
   "execution_count": 74,
   "metadata": {},
   "outputs": [
    {
     "data": {
      "text/html": [
       "<div>\n",
       "<style scoped>\n",
       "    .dataframe tbody tr th:only-of-type {\n",
       "        vertical-align: middle;\n",
       "    }\n",
       "\n",
       "    .dataframe tbody tr th {\n",
       "        vertical-align: top;\n",
       "    }\n",
       "\n",
       "    .dataframe thead th {\n",
       "        text-align: right;\n",
       "    }\n",
       "</style>\n",
       "<table border=\"1\" class=\"dataframe\">\n",
       "  <thead>\n",
       "    <tr style=\"text-align: right;\">\n",
       "      <th></th>\n",
       "      <th>accuracy</th>\n",
       "      <th>f1_score</th>\n",
       "    </tr>\n",
       "  </thead>\n",
       "  <tbody>\n",
       "    <tr>\n",
       "      <th>Logistic Regression</th>\n",
       "      <td>0.874715</td>\n",
       "      <td>0.856247</td>\n",
       "    </tr>\n",
       "    <tr>\n",
       "      <th>GradientBoosting</th>\n",
       "      <td>0.912984</td>\n",
       "      <td>0.906050</td>\n",
       "    </tr>\n",
       "    <tr>\n",
       "      <th>Decision Tree</th>\n",
       "      <td>0.882005</td>\n",
       "      <td>0.868193</td>\n",
       "    </tr>\n",
       "    <tr>\n",
       "      <th>Random Forest</th>\n",
       "      <td>0.912984</td>\n",
       "      <td>0.904548</td>\n",
       "    </tr>\n",
       "  </tbody>\n",
       "</table>\n",
       "</div>"
      ],
      "text/plain": [
       "                     accuracy  f1_score\n",
       "Logistic Regression  0.874715  0.856247\n",
       "GradientBoosting     0.912984  0.906050\n",
       "Decision Tree        0.882005  0.868193\n",
       "Random Forest        0.912984  0.904548"
      ]
     },
     "execution_count": 74,
     "metadata": {},
     "output_type": "execute_result"
    }
   ],
   "source": [
    "pd.concat([lr_stats_df, gb_stats_df, dt_stats_df, rf_stats_df])"
   ]
  },
  {
   "cell_type": "markdown",
   "metadata": {},
   "source": [
    "All the learning models perform well on the validation set. <br />\n",
    "**Select the best model for the test set:** The performance of both Random Forest Classifier and GradientBoosting Classifier is very identical. Although the _F1 score_ of the GradientBoosting model is more but the difference is not substantial. Hence, either model can be selected for predicting the test set labels. <br />"
   ]
  },
  {
   "cell_type": "markdown",
   "metadata": {},
   "source": [
    "<h2>Hypertuning the best model to optimize performance</h2>"
   ]
  },
  {
   "cell_type": "markdown",
   "metadata": {},
   "source": [
    "I have selected the RandomForestClassifier because for two reasons:\n",
    "- its performance is good with the validation set\n",
    "- The decision trees within the Random forest can be exported and useful for understanding the rationale leading to a good performance. This will help optimize business decisons for Starbucks."
   ]
  },
  {
   "cell_type": "code",
   "execution_count": 76,
   "metadata": {},
   "outputs": [],
   "source": [
    "from sklearn.model_selection import RandomizedSearchCV\n",
    "from scipy.stats import uniform, truncnorm, randint"
   ]
  },
  {
   "cell_type": "code",
   "execution_count": 78,
   "metadata": {},
   "outputs": [],
   "source": [
    "#hyperparameter distributions\n",
    "model_params = {\n",
    "    # randomly sample numbers from 4 to 210 estimators\n",
    "    'n_estimators': randint(10,200),\n",
    "    # normally distributed max_features, with mean .25 stddev 0.1, bounded between 0 and 1\n",
    "    'max_features': truncnorm(a=0, b=1, loc=0.25, scale=0.1),\n",
    "    # uniform distribution from 0.01 to 0.2 (0.01 + 0.199)\n",
    "    'min_samples_split': uniform(0.01, 0.199)\n",
    "}\n",
    "\n",
    "#initialize and fit\n",
    "clf = RandomForestClassifier(random_state = 1)\n",
    "\n",
    "# this will train 100 models over 5 folds of cross validation\n",
    "rf_clf = RandomizedSearchCV(clf, model_params, n_iter=100, cv=5, random_state=1)"
   ]
  },
  {
   "cell_type": "code",
   "execution_count": 79,
   "metadata": {},
   "outputs": [],
   "source": [
    "#train to find best model\n",
    "best_rf_clf = rf_clf.fit(train_X, train_y)"
   ]
  },
  {
   "cell_type": "code",
   "execution_count": 82,
   "metadata": {},
   "outputs": [
    {
     "name": "stdout",
     "output_type": "stream",
     "text": [
      "Best set of hyperparameters:\n",
      "\n",
      "{'bootstrap': True,\n",
      " 'ccp_alpha': 0.0,\n",
      " 'class_weight': None,\n",
      " 'criterion': 'gini',\n",
      " 'max_depth': None,\n",
      " 'max_features': 0.34082380566905934,\n",
      " 'max_leaf_nodes': None,\n",
      " 'max_samples': None,\n",
      " 'min_impurity_decrease': 0.0,\n",
      " 'min_impurity_split': None,\n",
      " 'min_samples_leaf': 1,\n",
      " 'min_samples_split': 0.012776363022143807,\n",
      " 'min_weight_fraction_leaf': 0.0,\n",
      " 'n_estimators': 98,\n",
      " 'n_jobs': None,\n",
      " 'oob_score': False,\n",
      " 'random_state': 1,\n",
      " 'verbose': 0,\n",
      " 'warm_start': False}\n"
     ]
    }
   ],
   "source": [
    "from pprint import pprint\n",
    "\n",
    "#see the best hyperparametes set\n",
    "print (\"Best set of hyperparameters:\\n\")\n",
    "pprint(best_rf_clf.best_estimator_.get_params())"
   ]
  },
  {
   "cell_type": "markdown",
   "metadata": {},
   "source": [
    "**Predicting for Test set**"
   ]
  },
  {
   "cell_type": "code",
   "execution_count": 87,
   "metadata": {},
   "outputs": [
    {
     "name": "stdout",
     "output_type": "stream",
     "text": [
      "RandomForest Classifier accuracy:  0.9117006733836261\n",
      "RandomForest Classifier classification report : \n",
      "               precision    recall  f1-score   support\n",
      "\n",
      "           0       0.94      0.89      0.91     10433\n",
      "           1       0.88      0.94      0.91      9318\n",
      "\n",
      "    accuracy                           0.91     19751\n",
      "   macro avg       0.91      0.91      0.91     19751\n",
      "weighted avg       0.91      0.91      0.91     19751\n",
      "\n"
     ]
    },
    {
     "data": {
      "text/html": [
       "<div>\n",
       "<style scoped>\n",
       "    .dataframe tbody tr th:only-of-type {\n",
       "        vertical-align: middle;\n",
       "    }\n",
       "\n",
       "    .dataframe tbody tr th {\n",
       "        vertical-align: top;\n",
       "    }\n",
       "\n",
       "    .dataframe thead th {\n",
       "        text-align: right;\n",
       "    }\n",
       "</style>\n",
       "<table border=\"1\" class=\"dataframe\">\n",
       "  <thead>\n",
       "    <tr style=\"text-align: right;\">\n",
       "      <th></th>\n",
       "      <th>accuracy</th>\n",
       "      <th>f1_score</th>\n",
       "    </tr>\n",
       "  </thead>\n",
       "  <tbody>\n",
       "    <tr>\n",
       "      <th>Random Forest</th>\n",
       "      <td>0.911701</td>\n",
       "      <td>0.909223</td>\n",
       "    </tr>\n",
       "  </tbody>\n",
       "</table>\n",
       "</div>"
      ],
      "text/plain": [
       "               accuracy  f1_score\n",
       "Random Forest  0.911701  0.909223"
      ]
     },
     "execution_count": 87,
     "metadata": {},
     "output_type": "execute_result"
    }
   ],
   "source": [
    "test_pred_y = best_rf_clf.predict(test_X)\n",
    "best_rf_accuracy, best_rf_cls_report, best_rf_stats_df = evaluation_metrics('Random Forest', test_y, test_pred_y)\n",
    "print ('RandomForest Classifier accuracy: ', best_rf_accuracy)\n",
    "print ('RandomForest Classifier classification report : \\n', best_rf_cls_report)\n",
    "best_rf_stats_df"
   ]
  },
  {
   "cell_type": "markdown",
   "metadata": {},
   "source": [
    "<h1>Conclusion</h1>"
   ]
  },
  {
   "cell_type": "markdown",
   "metadata": {},
   "source": [
    "The Random Forest performed well on unseen test data. After tuning the hyperparameters the model delivers an increase in the f1-score. <br />\n",
    "The model successfully out performs the Logistic Regression model which was considered a benchmark for this case. It predicts the success label of an offer with 91% accuracy which makes it favourable for general unseen cases and thus favourable for application in the real world. This is because an extremely high acuuracy with training data could also be an outcome of overfitting which this model avoids."
   ]
  }
 ],
 "metadata": {
  "kernelspec": {
   "display_name": "conda_pytorch_latest_p36",
   "language": "python",
   "name": "conda_pytorch_latest_p36"
  },
  "language_info": {
   "codemirror_mode": {
    "name": "ipython",
    "version": 3
   },
   "file_extension": ".py",
   "mimetype": "text/x-python",
   "name": "python",
   "nbconvert_exporter": "python",
   "pygments_lexer": "ipython3",
   "version": "3.6.10"
  }
 },
 "nbformat": 4,
 "nbformat_minor": 4
}
